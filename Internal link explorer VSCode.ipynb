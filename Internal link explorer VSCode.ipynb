{
 "cells": [
  {
   "cell_type": "code",
   "execution_count": null,
   "metadata": {},
   "outputs": [],
   "source": [
    "!pip install pandas\n",
    "\n",
    "import pandas as pd\n",
    "import numpy as np\n",
    "import re\n",
    "\n",
    "# open the csv file from local machine\n",
    "df_cluster = pd.read_csv(r\"C:\\Users\\ilayg\\Downloads\\Raw Data For Internal Link (Explorer)\\Wix_blog_cluster_with_crawl_data.csv\")\n",
    "df_xpath = pd.read_csv(r\"C:\\Users\\ilayg\\Downloads\\Raw Data For Internal Link (Explorer)\\Raw Data Body + Text.csv\")\n"
   ]
  },
  {
   "cell_type": "code",
   "execution_count": 57,
   "metadata": {},
   "outputs": [
    {
     "data": {
      "text/html": [
       "<div>\n",
       "<style scoped>\n",
       "    .dataframe tbody tr th:only-of-type {\n",
       "        vertical-align: middle;\n",
       "    }\n",
       "\n",
       "    .dataframe tbody tr th {\n",
       "        vertical-align: top;\n",
       "    }\n",
       "\n",
       "    .dataframe thead th {\n",
       "        text-align: right;\n",
       "    }\n",
       "</style>\n",
       "<table border=\"1\" class=\"dataframe\">\n",
       "  <thead>\n",
       "    <tr style=\"text-align: right;\">\n",
       "      <th></th>\n",
       "      <th>Address</th>\n",
       "      <th>Status Code</th>\n",
       "      <th>Status</th>\n",
       "      <th>Body</th>\n",
       "      <th>Text</th>\n",
       "    </tr>\n",
       "  </thead>\n",
       "  <tbody>\n",
       "    <tr>\n",
       "      <th>0</th>\n",
       "      <td>https://www.wix.com/blog/2022/05/ai-marketing/</td>\n",
       "      <td>200</td>\n",
       "      <td>OK</td>\n",
       "      <td>&lt;div class=\"rZ4lf\"&gt;&lt;div class=\"ZpV9q\"&gt;&lt;div cla...</td>\n",
       "      <td>May 194 min readAI Marketing: Benefits, Challe...</td>\n",
       "    </tr>\n",
       "    <tr>\n",
       "      <th>1</th>\n",
       "      <td>https://www.wix.com/blog/2022/06/how-to-become...</td>\n",
       "      <td>200</td>\n",
       "      <td>OK</td>\n",
       "      <td>&lt;div class=\"rZ4lf\"&gt;&lt;div class=\"ZpV9q\"&gt;&lt;div cla...</td>\n",
       "      <td>Jun 97 min readHow to Become a Web Designer/**...</td>\n",
       "    </tr>\n",
       "    <tr>\n",
       "      <th>2</th>\n",
       "      <td>https://www.wix.com/blog/2022/06/ux-design-tools/</td>\n",
       "      <td>200</td>\n",
       "      <td>OK</td>\n",
       "      <td>&lt;div class=\"rZ4lf\"&gt;&lt;div class=\"ZpV9q\"&gt;&lt;div cla...</td>\n",
       "      <td>Jun 54 min readBest UI and UX Design Tools of ...</td>\n",
       "    </tr>\n",
       "    <tr>\n",
       "      <th>3</th>\n",
       "      <td>https://www.wix.com/blog/2021/02/how-to-start-...</td>\n",
       "      <td>200</td>\n",
       "      <td>OK</td>\n",
       "      <td>&lt;div class=\"rZ4lf\"&gt;&lt;div class=\"ZpV9q\"&gt;&lt;div cla...</td>\n",
       "      <td>Nov 17, 202124 min readHow to Start a Blog in ...</td>\n",
       "    </tr>\n",
       "    <tr>\n",
       "      <th>4</th>\n",
       "      <td>https://www.wix.com/blog/2022/06/hypergrowth/</td>\n",
       "      <td>200</td>\n",
       "      <td>OK</td>\n",
       "      <td>&lt;div class=\"rZ4lf\"&gt;&lt;div class=\"ZpV9q\"&gt;&lt;div cla...</td>\n",
       "      <td>4 days ago5 min readStages and Steps to Achiev...</td>\n",
       "    </tr>\n",
       "  </tbody>\n",
       "</table>\n",
       "</div>"
      ],
      "text/plain": [
       "                                             Address  Status Code Status  \\\n",
       "0     https://www.wix.com/blog/2022/05/ai-marketing/          200     OK   \n",
       "1  https://www.wix.com/blog/2022/06/how-to-become...          200     OK   \n",
       "2  https://www.wix.com/blog/2022/06/ux-design-tools/          200     OK   \n",
       "3  https://www.wix.com/blog/2021/02/how-to-start-...          200     OK   \n",
       "4      https://www.wix.com/blog/2022/06/hypergrowth/          200     OK   \n",
       "\n",
       "                                                Body  \\\n",
       "0  <div class=\"rZ4lf\"><div class=\"ZpV9q\"><div cla...   \n",
       "1  <div class=\"rZ4lf\"><div class=\"ZpV9q\"><div cla...   \n",
       "2  <div class=\"rZ4lf\"><div class=\"ZpV9q\"><div cla...   \n",
       "3  <div class=\"rZ4lf\"><div class=\"ZpV9q\"><div cla...   \n",
       "4  <div class=\"rZ4lf\"><div class=\"ZpV9q\"><div cla...   \n",
       "\n",
       "                                                Text  \n",
       "0  May 194 min readAI Marketing: Benefits, Challe...  \n",
       "1  Jun 97 min readHow to Become a Web Designer/**...  \n",
       "2  Jun 54 min readBest UI and UX Design Tools of ...  \n",
       "3  Nov 17, 202124 min readHow to Start a Blog in ...  \n",
       "4  4 days ago5 min readStages and Steps to Achiev...  "
      ]
     },
     "execution_count": 57,
     "metadata": {},
     "output_type": "execute_result"
    }
   ],
   "source": [
    "df_xpath.head()"
   ]
  },
  {
   "cell_type": "code",
   "execution_count": 56,
   "metadata": {},
   "outputs": [
    {
     "data": {
      "text/plain": [
       "49"
      ]
     },
     "execution_count": 56,
     "metadata": {},
     "output_type": "execute_result"
    }
   ],
   "source": [
    "# rename columns number 3 to \"Body\" and number 4 to \"Text\"\n",
    "df_xpath.rename(columns={df_xpath.columns[3]: \"Body\" },inplace=True)\n",
    "# rename columns number 4 to \"Text\"\n",
    "df_xpath.rename(columns={df_xpath.columns[4]: \"Text\" },inplace=True)\n",
    "\n",
    "# merge the two dataframes on address column base on right join and call it df_merge\n",
    "df_merge = pd.merge(df_cluster, df_xpath, on=\"Address\", how=\"right\")\n",
    "\n",
    "# Create variable for target page\n",
    "target_page = \"https://www.wix.com/tools/business-name-generator\"\n",
    "# Create variable for target keyword\n",
    "target_kw = \"business name\"\n",
    "\n",
    "# Filter by Target Page & Target Keyword - See all pages that NOT link to target page AND CONTAIN the target keywrods\n",
    "lp_filter = ~df_xpath['Body'].str.contains(target_page)\n",
    "kw_filter = df_xpath['Text'].str.contains(target_kw, case=False)\n",
    "\n",
    "\n",
    "# create new df base on the filter and call it new_df and drop the column body, status code and  status\n",
    "new_df = df_merge[lp_filter & kw_filter].drop(columns=['Body','Status Code', 'Status', 'Text'])\n",
    "\n",
    "# show the first 5 rows of the dataframe new_df\n",
    "new_df\n",
    "\n",
    "# count the number of adresses in the new_df\n",
    "new_df['Address'].count()"
   ]
  },
  {
   "cell_type": "code",
   "execution_count": null,
   "metadata": {},
   "outputs": [],
   "source": []
  },
  {
   "cell_type": "code",
   "execution_count": 40,
   "metadata": {},
   "outputs": [],
   "source": [
    "# export the new_df to csv file and save it to local machine and call it new_df_export.csv\n",
    "new_df.to_csv(r\"C:\\Users\\ilayg\\Downloads\\Internal Linking Explorer Output\\new_df_export.csv\", index=False)"
   ]
  }
 ],
 "metadata": {
  "kernelspec": {
   "display_name": "Python 3.10.2 64-bit",
   "language": "python",
   "name": "python3"
  },
  "language_info": {
   "codemirror_mode": {
    "name": "ipython",
    "version": 3
   },
   "file_extension": ".py",
   "mimetype": "text/x-python",
   "name": "python",
   "nbconvert_exporter": "python",
   "pygments_lexer": "ipython3",
   "version": "3.10.2"
  },
  "orig_nbformat": 4,
  "vscode": {
   "interpreter": {
    "hash": "e0258c85cb772ab6d44902ec382b28da5ba3db91e5082dda0e44908f4aae6f53"
   }
  }
 },
 "nbformat": 4,
 "nbformat_minor": 2
}
